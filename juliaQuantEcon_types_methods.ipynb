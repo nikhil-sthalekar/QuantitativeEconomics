{
 "cells": [
  {
   "cell_type": "code",
   "execution_count": 1,
   "metadata": {
    "collapsed": false
   },
   "outputs": [
    {
     "name": "stderr",
     "output_type": "stream",
     "text": [
      "\u001b[1m\u001b[34mINFO: Recompiling stale cache file /home/nikhil/.julia/lib/v0.5/Distributions.ji for module Distributions.\n",
      "\u001b[0m"
     ]
    }
   ],
   "source": [
    "#Exercise 1\n",
    "using Distributions\n",
    "using Plots\n",
    "\n",
    "type AR1\n",
    "    a::Real\n",
    "    b::Real\n",
    "    sigma::Real\n",
    "    phi::Distribution\n",
    "end \n",
    "        "
   ]
  },
  {
   "cell_type": "code",
   "execution_count": 2,
   "metadata": {
    "collapsed": false
   },
   "outputs": [
    {
     "data": {
      "text/plain": [
       "simulate (generic function with 1 method)"
      ]
     },
     "execution_count": 2,
     "metadata": {},
     "output_type": "execute_result"
    }
   ],
   "source": [
    "function simulate(m:: AR1, n:: Integer, x0:: Real)\n",
    "    X = Array(Float64,n)\n",
    "    i = 1\n",
    "    X[1] = x0\n",
    "    while i < n\n",
    "        X[i+1] = m.a * X[i] + m.b + rand(m.phi)\n",
    "        i += 1\n",
    "    end\n",
    "    return X\n",
    "end"
   ]
  },
  {
   "cell_type": "code",
   "execution_count": 3,
   "metadata": {
    "collapsed": false
   },
   "outputs": [
    {
     "data": {
      "text/plain": [
       "AR1(0.9,1,1,Distributions.Beta{Float64}(α=4.0, β=4.0))"
      ]
     },
     "execution_count": 3,
     "metadata": {},
     "output_type": "execute_result"
    }
   ],
   "source": [
    "m = AR1(0.9, 1, 1, Beta(4,4))"
   ]
  },
  {
   "cell_type": "code",
   "execution_count": 4,
   "metadata": {
    "collapsed": false
   },
   "outputs": [
    {
     "name": "stdout",
     "output_type": "stream",
     "text": [
      "\n",
      " If the code has a Segmentation fault error switch to qt v4.8.5 by pasting the following code into julia: \n",
      " \n",
      "if !Plots.is_installed(\"PyPlot\")\n",
      "    Pkg.add(\"PyPlot\")\n",
      "end\n",
      "withenv(\"PYTHON\" => \"\") do\n",
      "    Pkg.build(\"PyPlot\")\n",
      "end\n",
      "import Conda\n",
      "Conda.add(\"qt=4.8.5\")\n",
      "\n",
      "# now restart julia!\n"
     ]
    },
    {
     "data": {
      "text/html": [
       "<img src=\"data:image/png;base64,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\" />"
      ]
     },
     "execution_count": 4,
     "metadata": {},
     "output_type": "execute_result"
    }
   ],
   "source": [
    "X = simulate(m, 100, 0.0)\n",
    "\n",
    "plot(X, color =\"blue\")"
   ]
  },
  {
   "cell_type": "code",
   "execution_count": 7,
   "metadata": {
    "collapsed": false
   },
   "outputs": [
    {
     "name": "stderr",
     "output_type": "stream",
     "text": [
      "WARNING: Method definition f(Integer) in module Main at In[6]:6 overwritten at In[7]:6.\n"
     ]
    },
    {
     "data": {
      "text/plain": [
       "3.5745816818931244"
      ]
     },
     "execution_count": 7,
     "metadata": {},
     "output_type": "execute_result"
    }
   ],
   "source": [
    "#exercise 2\n",
    "\n",
    "\n",
    "# for the integer case\n",
    "function f(k::Integer)\n",
    "    @assert k > 0 \"must be pos and integer\"\n",
    "    z_score = randn(k)\n",
    "    return sum(z_score.^2)\n",
    "end"
   ]
  },
  {
   "cell_type": "code",
   "execution_count": 8,
   "metadata": {
    "collapsed": false
   },
   "outputs": [
    {
     "data": {
      "text/plain": [
       "1.3913341602629008"
      ]
     },
     "execution_count": 8,
     "metadata": {},
     "output_type": "execute_result"
    }
   ],
   "source": [
    "#test case 1, does it work?\n",
    "f(4)"
   ]
  },
  {
   "cell_type": "code",
   "execution_count": 10,
   "metadata": {
    "collapsed": false
   },
   "outputs": [
    {
     "ename": "LoadError",
     "evalue": "AssertionError: must be pos and integer",
     "output_type": "error",
     "traceback": [
      "AssertionError: must be pos and integer",
      "",
      " in f(::Int64) at ./In[7]:6"
     ]
    }
   ],
   "source": [
    "#test case 2, for neg numbers should crash and give errors\n",
    "f(-4)"
   ]
  },
  {
   "cell_type": "code",
   "execution_count": 11,
   "metadata": {
    "collapsed": false
   },
   "outputs": [
    {
     "ename": "LoadError",
     "evalue": "MethodError: no method matching f(::Float64)\u001b[0m\nClosest candidates are:\n  f(\u001b[1m\u001b[31m::Integer\u001b[0m) at In[7]:6\u001b[0m",
     "output_type": "error",
     "traceback": [
      "MethodError: no method matching f(::Float64)\u001b[0m\nClosest candidates are:\n  f(\u001b[1m\u001b[31m::Integer\u001b[0m) at In[7]:6\u001b[0m",
      ""
     ]
    }
   ],
   "source": [
    "#test case 3, for non integer numbers should crash\n",
    "f(3.1415)"
   ]
  },
  {
   "cell_type": "code",
   "execution_count": 13,
   "metadata": {
    "collapsed": false
   },
   "outputs": [
    {
     "ename": "LoadError",
     "evalue": "MethodError: no method matching f(::Complex{Int64})\u001b[0m\nClosest candidates are:\n  f(\u001b[1m\u001b[31m::Integer\u001b[0m) at In[7]:6\u001b[0m",
     "output_type": "error",
     "traceback": [
      "MethodError: no method matching f(::Complex{Int64})\u001b[0m\nClosest candidates are:\n  f(\u001b[1m\u001b[31m::Integer\u001b[0m) at In[7]:6\u001b[0m",
      ""
     ]
    }
   ],
   "source": [
    "#test case 4,complex numbers should crash\n",
    "f(2+im)"
   ]
  },
  {
   "cell_type": "code",
   "execution_count": 19,
   "metadata": {
    "collapsed": false
   },
   "outputs": [
    {
     "ename": "LoadError",
     "evalue": "UndefVarError: T not defined",
     "output_type": "error",
     "traceback": [
      "UndefVarError: T not defined",
      ""
     ]
    }
   ],
   "source": [
    "#vectorized version\n",
    "\n",
    "function f(k_vec:: Array{T,N})\n",
    "    for k in k_vec\n",
    "        @assert k > 0 \"still looking for natural numbers...\"\n",
    "    end\n",
    "    N = length(k_vec)\n",
    "    sample = Array(Float64, n)\n",
    "    for i in 1:N\n",
    "        z_score = randn(k_vec[i])\n",
    "        sample[i] = (z_score.^2)\n",
    "    end\n",
    "    return sample\n",
    "end\n",
    "\n"
   ]
  },
  {
   "cell_type": "code",
   "execution_count": 20,
   "metadata": {
    "collapsed": false
   },
   "outputs": [
    {
     "ename": "LoadError",
     "evalue": "MethodError: no method matching f(::Tuple{Int64,Int64,Int64,Int64,Int64})\u001b[0m\nClosest candidates are:\n  f(\u001b[1m\u001b[31m::Integer\u001b[0m) at In[7]:6\n  f(\u001b[1m\u001b[31m::Array{T,1}\u001b[0m) at In[14]:4\n  f(\u001b[1m\u001b[31m::Array{T,N}\u001b[0m) at In[17]:4\u001b[0m",
     "output_type": "error",
     "traceback": [
      "MethodError: no method matching f(::Tuple{Int64,Int64,Int64,Int64,Int64})\u001b[0m\nClosest candidates are:\n  f(\u001b[1m\u001b[31m::Integer\u001b[0m) at In[7]:6\n  f(\u001b[1m\u001b[31m::Array{T,1}\u001b[0m) at In[14]:4\n  f(\u001b[1m\u001b[31m::Array{T,N}\u001b[0m) at In[17]:4\u001b[0m",
      ""
     ]
    }
   ],
   "source": [
    "f((1,2,3,4,5))"
   ]
  },
  {
   "cell_type": "code",
   "execution_count": null,
   "metadata": {
    "collapsed": true
   },
   "outputs": [],
   "source": []
  }
 ],
 "metadata": {
  "anaconda-cloud": {},
  "kernelspec": {
   "display_name": "Julia 0.5.0",
   "language": "julia",
   "name": "julia-0.5"
  },
  "language_info": {
   "file_extension": ".jl",
   "mimetype": "application/julia",
   "name": "julia",
   "version": "0.5.0"
  }
 },
 "nbformat": 4,
 "nbformat_minor": 1
}
