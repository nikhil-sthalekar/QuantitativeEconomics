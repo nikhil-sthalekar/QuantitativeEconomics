{
 "cells": [
  {
   "cell_type": "code",
   "execution_count": 1,
   "metadata": {
    "collapsed": false
   },
   "outputs": [],
   "source": [
    "#Exercise 1\n",
    "using Distributions\n",
    "using Plots\n",
    "\n",
    "type AR1\n",
    "    a::Real\n",
    "    b::Real\n",
    "    sigma::Real\n",
    "    phi::Distribution\n",
    "end \n",
    "        "
   ]
  },
  {
   "cell_type": "code",
   "execution_count": 2,
   "metadata": {
    "collapsed": false
   },
   "outputs": [
    {
     "data": {
      "text/plain": [
       "simulate (generic function with 1 method)"
      ]
     },
     "execution_count": 2,
     "metadata": {},
     "output_type": "execute_result"
    }
   ],
   "source": [
    "function simulate(m:: AR1, n:: Integer, x0:: Real)\n",
    "    X = Array(Float64,n)\n",
    "    i = 1\n",
    "    X[1] = x0\n",
    "    while i < n\n",
    "        X[i+1] = m.a * X[i] + m.b + rand(m.phi)\n",
    "        i += 1\n",
    "    end\n",
    "    return X\n",
    "end"
   ]
  },
  {
   "cell_type": "code",
   "execution_count": 3,
   "metadata": {
    "collapsed": false
   },
   "outputs": [
    {
     "data": {
      "text/plain": [
       "AR1(0.9,1,1,Distributions.Beta{Float64}(α=4.0, β=4.0))"
      ]
     },
     "execution_count": 3,
     "metadata": {},
     "output_type": "execute_result"
    }
   ],
   "source": [
    "m = AR1(0.9, 1, 1, Beta(4,4))"
   ]
  },
  {
   "cell_type": "code",
   "execution_count": 5,
   "metadata": {
    "collapsed": false
   },
   "outputs": [
    {
     "data": {
      "text/html": [
       "<img src=\"data:image/png;base64,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\" />"
      ]
     },
     "execution_count": 5,
     "metadata": {},
     "output_type": "execute_result"
    }
   ],
   "source": [
    "X = simulate(m, 100, 0.0)\n",
    "\n",
    "plot(X, color =\"blue\")"
   ]
  },
  {
   "cell_type": "code",
   "execution_count": 6,
   "metadata": {
    "collapsed": false
   },
   "outputs": [
    {
     "data": {
      "text/plain": [
       "f (generic function with 1 method)"
      ]
     },
     "execution_count": 6,
     "metadata": {},
     "output_type": "execute_result"
    }
   ],
   "source": [
    "#exercise 2\n",
    "\n",
    "\n",
    "# for the integer case\n",
    "function f(k::Integer)\n",
    "    @assert k > 0 \"must be pos and integer\"\n",
    "    z_score = randn(k)\n",
    "    return sum(z_score.^2)\n",
    "end"
   ]
  },
  {
   "cell_type": "code",
   "execution_count": 7,
   "metadata": {
    "collapsed": false
   },
   "outputs": [
    {
     "data": {
      "text/plain": [
       "3.7005336560294286"
      ]
     },
     "execution_count": 7,
     "metadata": {},
     "output_type": "execute_result"
    }
   ],
   "source": [
    "#test case 1, does it work?\n",
    "f(4)"
   ]
  },
  {
   "cell_type": "code",
   "execution_count": 8,
   "metadata": {
    "collapsed": false
   },
   "outputs": [
    {
     "ename": "LoadError",
     "evalue": "AssertionError: must be pos and integer",
     "output_type": "error",
     "traceback": [
      "AssertionError: must be pos and integer",
      "",
      " in f(::Int64) at ./In[6]:6"
     ]
    }
   ],
   "source": [
    "#test case 2, for neg numbers should crash and give errors\n",
    "f(-4)"
   ]
  },
  {
   "cell_type": "code",
   "execution_count": 9,
   "metadata": {
    "collapsed": false
   },
   "outputs": [
    {
     "ename": "LoadError",
     "evalue": "MethodError: no method matching f(::Float64)\u001b[0m\nClosest candidates are:\n  f(\u001b[1m\u001b[31m::Integer\u001b[0m) at In[6]:6\u001b[0m",
     "output_type": "error",
     "traceback": [
      "MethodError: no method matching f(::Float64)\u001b[0m\nClosest candidates are:\n  f(\u001b[1m\u001b[31m::Integer\u001b[0m) at In[6]:6\u001b[0m",
      ""
     ]
    }
   ],
   "source": [
    "#test case 3, for non integer numbers should crash\n",
    "f(3.1415)"
   ]
  },
  {
   "cell_type": "code",
   "execution_count": 10,
   "metadata": {
    "collapsed": false
   },
   "outputs": [
    {
     "ename": "LoadError",
     "evalue": "MethodError: no method matching f(::Complex{Int64})\u001b[0m\nClosest candidates are:\n  f(\u001b[1m\u001b[31m::Integer\u001b[0m) at In[6]:6\u001b[0m",
     "output_type": "error",
     "traceback": [
      "MethodError: no method matching f(::Complex{Int64})\u001b[0m\nClosest candidates are:\n  f(\u001b[1m\u001b[31m::Integer\u001b[0m) at In[6]:6\u001b[0m",
      ""
     ]
    }
   ],
   "source": [
    "#test case 4,complex numbers should crash\n",
    "f(2+im)"
   ]
  },
  {
   "cell_type": "code",
   "execution_count": 11,
   "metadata": {
    "collapsed": false
   },
   "outputs": [
    {
     "data": {
      "text/plain": [
       "f (generic function with 2 methods)"
      ]
     },
     "execution_count": 11,
     "metadata": {},
     "output_type": "execute_result"
    }
   ],
   "source": [
    "#vectorized version\n",
    "\n",
    "function f{T<:Integer}(k_vec::Array{T,1})\n",
    "    for k in k_vec\n",
    "        @assert k > 0 \"still looking for natural numbers...\"\n",
    "    end\n",
    "    \n",
    "    N = length(k_vec)\n",
    "    sample = Array(Float64, N)\n",
    "    for i in 1:N\n",
    "        z_score = randn(k_vec[i])\n",
    "        sample[i] = sum(z_score.^2)\n",
    "    end\n",
    "    return sample\n",
    "end"
   ]
  },
  {
   "cell_type": "code",
   "execution_count": 12,
   "metadata": {
    "collapsed": false
   },
   "outputs": [
    {
     "data": {
      "text/plain": [
       "4-element Array{Float64,1}:\n",
       " 0.0265629\n",
       " 0.188963 \n",
       " 2.71618  \n",
       " 2.95777  "
      ]
     },
     "execution_count": 12,
     "metadata": {},
     "output_type": "execute_result"
    }
   ],
   "source": [
    "#test cases....\n",
    "f([1,2,3,4])"
   ]
  },
  {
   "cell_type": "code",
   "execution_count": 13,
   "metadata": {
    "collapsed": false
   },
   "outputs": [
    {
     "data": {
      "text/plain": [
       "1.1798210071120914"
      ]
     },
     "execution_count": 13,
     "metadata": {},
     "output_type": "execute_result"
    }
   ],
   "source": [
    "f(2)"
   ]
  },
  {
   "cell_type": "code",
   "execution_count": 14,
   "metadata": {
    "collapsed": false
   },
   "outputs": [
    {
     "ename": "LoadError",
     "evalue": "MethodError: no method matching f(::Float64)\u001b[0m\nClosest candidates are:\n  f(\u001b[1m\u001b[31m::Integer\u001b[0m) at In[6]:6\n  f{T<:Integer}(\u001b[1m\u001b[31m::Array{T<:Integer,1}\u001b[0m) at In[11]:4\u001b[0m",
     "output_type": "error",
     "traceback": [
      "MethodError: no method matching f(::Float64)\u001b[0m\nClosest candidates are:\n  f(\u001b[1m\u001b[31m::Integer\u001b[0m) at In[6]:6\n  f{T<:Integer}(\u001b[1m\u001b[31m::Array{T<:Integer,1}\u001b[0m) at In[11]:4\u001b[0m",
      ""
     ]
    }
   ],
   "source": [
    "f(2.2)"
   ]
  },
  {
   "cell_type": "code",
   "execution_count": 15,
   "metadata": {
    "collapsed": false
   },
   "outputs": [
    {
     "ename": "LoadError",
     "evalue": "MethodError: no method matching f(::Array{Float64,1})\u001b[0m\nClosest candidates are:\n  f(\u001b[1m\u001b[31m::Integer\u001b[0m) at In[6]:6\n  f{T<:Integer}(\u001b[1m\u001b[31m::Array{T<:Integer,1}\u001b[0m) at In[11]:4\u001b[0m",
     "output_type": "error",
     "traceback": [
      "MethodError: no method matching f(::Array{Float64,1})\u001b[0m\nClosest candidates are:\n  f(\u001b[1m\u001b[31m::Integer\u001b[0m) at In[6]:6\n  f{T<:Integer}(\u001b[1m\u001b[31m::Array{T<:Integer,1}\u001b[0m) at In[11]:4\u001b[0m",
      ""
     ]
    }
   ],
   "source": [
    "f([2.2,2])"
   ]
  },
  {
   "cell_type": "code",
   "execution_count": 16,
   "metadata": {
    "collapsed": false
   },
   "outputs": [
    {
     "data": {
      "text/plain": [
       "3-element Array{Float64,1}:\n",
       " 0.521195\n",
       " 0.388711\n",
       " 2.3045  "
      ]
     },
     "execution_count": 16,
     "metadata": {},
     "output_type": "execute_result"
    }
   ],
   "source": [
    "f([1;2;3])"
   ]
  },
  {
   "cell_type": "code",
   "execution_count": 17,
   "metadata": {
    "collapsed": false
   },
   "outputs": [
    {
     "ename": "LoadError",
     "evalue": "MethodError: no method matching f(::Array{Complex{Int64},1})\u001b[0m\nClosest candidates are:\n  f(\u001b[1m\u001b[31m::Integer\u001b[0m) at In[6]:6\n  f{T<:Integer}(\u001b[1m\u001b[31m::Array{T<:Integer,1}\u001b[0m) at In[11]:4\u001b[0m",
     "output_type": "error",
     "traceback": [
      "MethodError: no method matching f(::Array{Complex{Int64},1})\u001b[0m\nClosest candidates are:\n  f(\u001b[1m\u001b[31m::Integer\u001b[0m) at In[6]:6\n  f{T<:Integer}(\u001b[1m\u001b[31m::Array{T<:Integer,1}\u001b[0m) at In[11]:4\u001b[0m",
      ""
     ]
    }
   ],
   "source": [
    "f([1+im;2+im;3])"
   ]
  }
 ],
 "metadata": {
  "anaconda-cloud": {},
  "kernelspec": {
   "display_name": "Julia 0.5.0",
   "language": "julia",
   "name": "julia-0.5"
  },
  "language_info": {
   "file_extension": ".jl",
   "mimetype": "application/julia",
   "name": "julia",
   "version": "0.5.0"
  }
 },
 "nbformat": 4,
 "nbformat_minor": 1
}
