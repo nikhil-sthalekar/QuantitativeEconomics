{
 "cells": [
  {
   "cell_type": "code",
   "execution_count": 8,
   "metadata": {},
   "outputs": [],
   "source": [
    "# Exercise 1"
   ]
  },
  {
   "cell_type": "code",
   "execution_count": 9,
   "metadata": {},
   "outputs": [
    {
     "data": {
      "text/plain": [
       "asymptotic_var (generic function with 1 method)"
      ]
     },
     "execution_count": 9,
     "metadata": {},
     "output_type": "execute_result"
    }
   ],
   "source": [
    "function asymptotic_var(A, sigma, tolerance, iterations)\n",
    "    \n",
    "    # computing variance for use in calculations\n",
    "    var = sigma * sigma'\n",
    "    \n",
    "    # intializing a matrix to store results\n",
    "    asym_var = sigma * sigma'\n",
    "    \n",
    "    err = tolerance + 1\n",
    "    i = 1\n",
    "    while err > tolerance && i <= iterations\n",
    "        new_var = A * asym_var * A' + var\n",
    "        err = norm(asym_var - new_var)\n",
    "        asym_var = new_var\n",
    "        i += 1\n",
    "    end\n",
    "    return asym_var\n",
    "end\n",
    "        "
   ]
  },
  {
   "cell_type": "code",
   "execution_count": 10,
   "metadata": {},
   "outputs": [
    {
     "data": {
      "text/plain": [
       "2×2 Array{Float64,2}:\n",
       " 0.671228  0.633476\n",
       " 0.633476  0.858874"
      ]
     },
     "execution_count": 10,
     "metadata": {},
     "output_type": "execute_result"
    }
   ],
   "source": [
    "A = [0.8 -0.2; -0.1 0.7]\n",
    "sigma = [0.5 0.4; 0.4 0.6]\n",
    "tolerance = 1e-6\n",
    "iterations = 500\n",
    "\n",
    "asymptotic_var(A, sigma, tolerance, iterations)"
   ]
  },
  {
   "cell_type": "code",
   "execution_count": 11,
   "metadata": {},
   "outputs": [],
   "source": [
    "using QuantEcon"
   ]
  },
  {
   "cell_type": "code",
   "execution_count": 12,
   "metadata": {},
   "outputs": [
    {
     "data": {
      "text/plain": [
       "2×2 Array{Float64,2}:\n",
       " 0.671231  0.633474\n",
       " 0.633474  0.858874"
      ]
     },
     "execution_count": 12,
     "metadata": {},
     "output_type": "execute_result"
    }
   ],
   "source": [
    "solve_discrete_lyapunov(A, sigma * sigma')"
   ]
  },
  {
   "cell_type": "code",
   "execution_count": null,
   "metadata": {},
   "outputs": [],
   "source": []
  }
 ],
 "metadata": {
  "kernelspec": {
   "display_name": "Julia 0.6.3",
   "language": "julia",
   "name": "julia-0.6"
  },
  "language_info": {
   "file_extension": ".jl",
   "mimetype": "application/julia",
   "name": "julia",
   "version": "0.6.3"
  }
 },
 "nbformat": 4,
 "nbformat_minor": 2
}
