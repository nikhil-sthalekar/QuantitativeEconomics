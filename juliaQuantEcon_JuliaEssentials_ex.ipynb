{
 "cells": [
  {
   "cell_type": "code",
   "execution_count": 2,
   "metadata": {
    "collapsed": false
   },
   "outputs": [
    {
     "data": {
      "text/plain": [
       "32"
      ]
     },
     "execution_count": 2,
     "metadata": {},
     "output_type": "execute_result"
    }
   ],
   "source": [
    "#Exercise 1\n",
    "\n",
    "#Part 1\n",
    "x_vals = [1,2,3]\n",
    "y_vals = [4,5,6]\n",
    "\n",
    "agg = 0\n",
    "for (a, b) in zip(x_vals, y_vals)\n",
    "    agg += (a*b)\n",
    "end\n",
    "\n",
    "agg"
   ]
  },
  {
   "cell_type": "code",
   "execution_count": 95,
   "metadata": {
    "collapsed": false
   },
   "outputs": [
    {
     "data": {
      "text/plain": [
       "49"
      ]
     },
     "execution_count": 95,
     "metadata": {},
     "output_type": "execute_result"
    }
   ],
   "source": [
    "#Exercise 1\n",
    "#Part 2\n",
    "sum([if (n%2 == 0) 1 else 0 end for n in 1:99])\n",
    "\n"
   ]
  },
  {
   "cell_type": "code",
   "execution_count": 96,
   "metadata": {
    "collapsed": false
   },
   "outputs": [
    {
     "data": {
      "text/plain": [
       "2"
      ]
     },
     "execution_count": 96,
     "metadata": {},
     "output_type": "execute_result"
    }
   ],
   "source": [
    "#Exercise 1\n",
    "#Part 3\n",
    "pairs = ((2, 5), (4, 2), (9, 8), (12, 10))\n",
    "\n",
    "sum([if (a%2 == 0) && (b%2 == 0) 1 else 0 end for (a,b) in pairs])"
   ]
  },
  {
   "cell_type": "code",
   "execution_count": 19,
   "metadata": {
    "collapsed": false
   },
   "outputs": [
    {
     "name": "stdout",
     "output_type": "stream",
     "text": [
      "64\n"
     ]
    },
    {
     "name": "stderr",
     "output_type": "stream",
     "text": [
      "WARNING: Method definition p(Any, Any) in module Main at In[18]:7 overwritten at In[19]:7.\n"
     ]
    },
    {
     "data": {
      "text/plain": [
       "64"
      ]
     },
     "execution_count": 19,
     "metadata": {},
     "output_type": "execute_result"
    }
   ],
   "source": [
    "#Exercise 2\n",
    "#4 will yield 5 coefficients...  here we count from zero\n",
    "deg = 4\n",
    "#defining coefficients for sequence setting to 2 for ease of testing\n",
    "coeff = [2 for a in 0:deg]\n",
    "\n",
    "function p(x, coeff)\n",
    "    summation = 0\n",
    "    exp = [e for e in 0:deg]\n",
    "    for c in length(coeff)\n",
    "        summation += coeff[c]*(x^(exp[c]+1))\n",
    "        println(summation)\n",
    "    end\n",
    "    return summation\n",
    "end\n",
    "\n",
    "p(2,coeff)\n",
    "\n",
    "        "
   ]
  },
  {
   "cell_type": "code",
   "execution_count": 76,
   "metadata": {
    "collapsed": false
   },
   "outputs": [
    {
     "name": "stderr",
     "output_type": "stream",
     "text": [
      "WARNING: Method definition capitalCounter(Any) in module Main at In[75]:3 overwritten at In[76]:4.\n"
     ]
    },
    {
     "data": {
      "text/plain": [
       "8"
      ]
     },
     "execution_count": 76,
     "metadata": {},
     "output_type": "execute_result"
    }
   ],
   "source": [
    "#Exercise 3\n",
    "#counts punctuation as capitals\n",
    "function capitalCounter(string)\n",
    "    cnt = 0\n",
    "    for letter in string\n",
    "        if letter == uppercase(letter) && letter != ' '\n",
    "            cnt += 1\n",
    "        end\n",
    "    end\n",
    "    return cnt\n",
    "end\n",
    "\n",
    "capitalCounter(\"Can I Has SteaK!?!\")"
   ]
  },
  {
   "cell_type": "code",
   "execution_count": 136,
   "metadata": {
    "collapsed": false
   },
   "outputs": [
    {
     "ename": "LoadError",
     "evalue": "LoadError: syntax: invalid character literal\nwhile loading In[136], in expression starting on line 2",
     "output_type": "error",
     "traceback": [
      "LoadError: syntax: invalid character literal\nwhile loading In[136], in expression starting on line 2",
      ""
     ]
    }
   ],
   "source": [
    "#Exercise 4\n",
    "seqa = ['i', 'can','poop', 'u', 'and']\n",
    "seqb = ['i', 'can','u', 'poop', 'and']\n",
    "\n",
    "function sameDiff(seq_a, seq_b)\n",
    "    agg = 0\n",
    "    for a in seq_a\n",
    "        if issubset(a, seq_b)\n",
    "            agg += 0\n",
    "        else \n",
    "            agg += 1\n",
    "        end\n",
    "    end\n",
    "    \n",
    "    if agg == 0\n",
    "        return true\n",
    "    else\n",
    "        return false\n",
    "    end\n",
    "end\n",
    "\n",
    "sameDiff(seqa, seqb)\n",
    "\n"
   ]
  },
  {
   "cell_type": "code",
   "execution_count": 86,
   "metadata": {
    "collapsed": false
   },
   "outputs": [
    {
     "data": {
      "text/plain": [
       "Base.Zip2{Tuple{Int64,Int64,Int64,Int64},Tuple{Int64,Int64,Int64,Int64}}((1,2,3,4),(1,2,3,4))"
      ]
     },
     "execution_count": 86,
     "metadata": {},
     "output_type": "execute_result"
    }
   ],
   "source": [
    "seqa = (1,2,3,4)\n",
    "seqb = (1,2,3,4)\n",
    "\n",
    "zip(seqa, seqb)"
   ]
  },
  {
   "cell_type": "code",
   "execution_count": 87,
   "metadata": {
    "collapsed": false
   },
   "outputs": [
    {
     "name": "stdout",
     "output_type": "stream",
     "text": [
      "The capital of Japan is Tokyo\n",
      "The capital of Korea is Seoul\n",
      "The capital of China is Beijing\n"
     ]
    }
   ],
   "source": [
    "countries = (\"Japan\", \"Korea\", \"China\")\n",
    "cities = (\"Tokyo\", \"Seoul\", \"Beijing\")\n",
    "for (country, city) in zip(countries, cities)\n",
    "    println(\"The capital of $country is $city\")\n",
    "end"
   ]
  },
  {
   "cell_type": "code",
   "execution_count": null,
   "metadata": {
    "collapsed": true
   },
   "outputs": [],
   "source": []
  }
 ],
 "metadata": {
  "anaconda-cloud": {},
  "kernelspec": {
   "display_name": "Julia 0.5.0",
   "language": "julia",
   "name": "julia-0.5"
  },
  "language_info": {
   "file_extension": ".jl",
   "mimetype": "application/julia",
   "name": "julia",
   "version": "0.5.0"
  }
 },
 "nbformat": 4,
 "nbformat_minor": 1
}
